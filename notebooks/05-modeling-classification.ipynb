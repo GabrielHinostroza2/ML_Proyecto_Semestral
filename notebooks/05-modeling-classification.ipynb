{
 "cells": [
  {
   "cell_type": "markdown",
   "id": "af4dc98b",
   "metadata": {},
   "source": [
    "# Fase 4: Modeling - Clasification (Categorical)\n"
   ]
  },
  {
   "cell_type": "code",
   "execution_count": null,
   "id": "4671437d",
   "metadata": {
    "vscode": {
     "languageId": "plaintext"
    }
   },
   "outputs": [],
   "source": [
    "# Celda 1: Importar librerías y preparar datos\n",
    "\n",
    "import numpy as np\n",
    "import pandas as pd\n",
    "import matplotlib.pyplot as plt\n",
    "import seaborn as sns\n",
    "\n",
    "from sklearn.model_selection import train_test_split, GridSearchCV\n",
    "from sklearn.preprocessing  import StandardScaler\n",
    "from sklearn.pipeline        import Pipeline\n",
    "from sklearn.linear_model    import LogisticRegression\n",
    "from sklearn.svm             import SVC\n",
    "from sklearn.tree            import DecisionTreeClassifier\n",
    "from sklearn.ensemble        import RandomForestClassifier, GradientBoostingClassifier\n",
    "from sklearn.neural_network  import MLPClassifier\n",
    "from sklearn.metrics         import accuracy_score, precision_score, recall_score, f1_score, classification_report, confusion_matrix\n",
    "\n",
    "# Cargar datos\n",
    "data_path = '/Users/luissalamanca/Desktop/Duoc/Machine/ML_Proyecto_Semestral/data/03_features/engineered_data.csv'\n",
    "data = pd.read_csv(data_path, sep=';')\n",
    "\n",
    "# Separar columnas concatenadas\n",
    "if len(data.columns) == 1:\n",
    "    column_name = data.columns[0]\n",
    "    if ',' in column_name:\n",
    "        new_columns = column_name.split(',')\n",
    "        data_split = data[column_name].str.split(',', expand=True)\n",
    "        data_split.columns = new_columns\n",
    "        for col in data_split.columns:\n",
    "            data_split[col] = pd.to_numeric(data_split[col], errors='coerce')\n",
    "        data = data_split\n",
    "\n",
    "# Crear variable objetivo multiclase\n",
    "data['EffectivenessLevel'] = pd.cut(\n",
    "    data['EffectivenessScore'].astype(float),\n",
    "    bins=[-0.1, 0.5, 1.5, 5, np.inf],\n",
    "    labels=['Bajo', 'Medio', 'Alto', 'Experto']\n",
    ")\n",
    "\n",
    "print(data['EffectivenessLevel'].value_counts())\n",
    "print('\\nEstadísticas de EffectivenessScore:\\n', data['EffectivenessScore'].astype(float).describe())\n",
    "\n",
    "# Visualizar distribución de las clases\n",
    "plt.figure(figsize=(6, 3))\n",
    "sns.countplot(x='EffectivenessLevel', data=data, order=['Bajo', 'Medio', 'Alto', 'Experto'])\n",
    "plt.title('Distribución de clases: EffectivenessLevel')\n",
    "plt.show()\n",
    "\n",
    "# Lista de features y target\n",
    "features = [\n",
    "    'EconomicEfficiency',\n",
    "    'EquipmentAdvantage',\n",
    "    'KillAssistRatio',\n",
    "    'StealthKillsRatio',\n",
    "    'KDA'\n",
    "]\n",
    "X = data[features]\n",
    "y = data['EffectivenessLevel']\n",
    "\n",
    "# Dividir en entrenamiento/prueba (30% test)\n",
    "X_train, X_test, y_train, y_test = train_test_split(\n",
    "    X, y, test_size=0.3, random_state=42, stratify=y\n",
    ")\n",
    "\n",
    "# Escalamiento de características\n",
    "scaler = StandardScaler()\n",
    "X_train_scaled = scaler.fit_transform(X_train)\n",
    "X_test_scaled  = scaler.transform(X_test)\n",
    "\n",
    "# Convertir los arrays escalados en DataFrame para fácil indexación por nombre\n",
    "X_train_scaled_df = pd.DataFrame(\n",
    "    X_train_scaled,\n",
    "    columns=features,\n",
    "    index=X_train.index\n",
    ")\n",
    "X_test_scaled_df  = pd.DataFrame(\n",
    "    X_test_scaled,\n",
    "    columns=features,\n",
    "    index=X_test.index\n",
    ")\n",
    "\n",
    "print(\"Formas de los datos:\")\n",
    "print(f\"  X_train:           {X_train.shape}\")\n",
    "print(f\"  X_test:            {X_test.shape}\")\n",
    "print(f\"  X_train_scaled_df: {X_train_scaled_df.shape}\")\n",
    "print(f\"  X_test_scaled_df:  {X_test_scaled_df.shape}\")\n"
   ]
  },
  {
   "cell_type": "code",
   "execution_count": null,
   "id": "4ba19070",
   "metadata": {
    "vscode": {
     "languageId": "plaintext"
    }
   },
   "outputs": [],
   "source": [
    "# Pipeline y parámetros para GridSearch\n",
    "pipe_lr = Pipeline([\n",
    "    ('clf', LogisticRegression(max_iter=1000, random_state=42))\n",
    "])\n",
    "\n",
    "param_grid_lr = {\n",
    "    'clf__C': [0.1, 1, 10],\n",
    "    'clf__solver': ['lbfgs', 'liblinear']\n",
    "}\n",
    "\n",
    "grid_lr = GridSearchCV(pipe_lr, param_grid_lr, cv=5, scoring='f1', n_jobs=-1)\n",
    "grid_lr.fit(X_train_scaled_df, y_train)\n",
    "\n",
    "# Predicciones y métricas\n",
    "y_pred_lr = grid_lr.predict(X_test_scaled_df)\n",
    "\n",
    "print(\"Mejores parámetros:\", grid_lr.best_params_)\n",
    "print(classification_report(y_test, y_pred_lr, digits=3))\n",
    "\n",
    "cm = confusion_matrix(y_test, y_pred_lr)\n",
    "sns.heatmap(cm, annot=True, fmt='d', cmap='Blues')\n",
    "plt.title(\"Matriz de confusión - Logistic Regression\")\n",
    "plt.xlabel(\"Predicho\")\n",
    "plt.ylabel(\"Real\")\n",
    "plt.show()\n"
   ]
  },
  {
   "cell_type": "code",
   "execution_count": null,
   "id": "cb271b31",
   "metadata": {
    "vscode": {
     "languageId": "plaintext"
    }
   },
   "outputs": [],
   "source": [
    "pipe_rf = Pipeline([\n",
    "    ('clf', RandomForestClassifier(random_state=42))\n",
    "])\n",
    "\n",
    "param_grid_rf = {\n",
    "    'clf__n_estimators': [50, 100],\n",
    "    'clf__max_depth': [None, 10, 20]\n",
    "}\n",
    "\n",
    "grid_rf = GridSearchCV(pipe_rf, param_grid_rf, cv=3, scoring='f1', n_jobs=-1)\n",
    "grid_rf.fit(X_train_scaled_df, y_train)\n",
    "\n",
    "y_pred_rf = grid_rf.predict(X_test_scaled_df)\n",
    "\n",
    "print(\"Mejores parámetros:\", grid_rf.best_params_)\n",
    "print(classification_report(y_test, y_pred_rf, digits=3))\n",
    "\n",
    "cm = confusion_matrix(y_test, y_pred_rf)\n",
    "sns.heatmap(cm, annot=True, fmt='d', cmap='Blues')\n",
    "plt.title(\"Matriz de confusión - Random Forest\")\n",
    "plt.xlabel(\"Predicho\")\n",
    "plt.ylabel(\"Real\")\n",
    "plt.show()\n"
   ]
  },
  {
   "cell_type": "code",
   "execution_count": null,
   "id": "b6fe9387",
   "metadata": {
    "vscode": {
     "languageId": "plaintext"
    }
   },
   "outputs": [],
   "source": [
    "pipe_svc = Pipeline([\n",
    "    ('clf', SVC())\n",
    "])\n",
    "\n",
    "param_grid_svc = {\n",
    "    'clf__C': [0.1, 1, 10],\n",
    "    'clf__kernel': ['linear', 'rbf']\n",
    "}\n",
    "\n",
    "grid_svc = GridSearchCV(pipe_svc, param_grid_svc, cv=3, scoring='f1', n_jobs=-1)\n",
    "grid_svc.fit(X_train_scaled_df, y_train)\n",
    "\n",
    "y_pred_svc = grid_svc.predict(X_test_scaled_df)\n",
    "\n",
    "print(\"Mejores parámetros:\", grid_svc.best_params_)\n",
    "print(classification_report(y_test, y_pred_svc, digits=3))\n",
    "\n",
    "cm = confusion_matrix(y_test, y_pred_svc)\n",
    "sns.heatmap(cm, annot=True, fmt='d', cmap='Blues')\n",
    "plt.title(\"Matriz de confusión - SVC\")\n",
    "plt.xlabel(\"Predicho\")\n",
    "plt.ylabel(\"Real\")\n",
    "plt.show()\n"
   ]
  },
  {
   "cell_type": "code",
   "execution_count": null,
   "id": "b08a699e",
   "metadata": {
    "vscode": {
     "languageId": "plaintext"
    }
   },
   "outputs": [],
   "source": [
    "pipe_gb = Pipeline([\n",
    "    ('clf', GradientBoostingClassifier(random_state=42))\n",
    "])\n",
    "\n",
    "param_grid_gb = {\n",
    "    'clf__n_estimators': [50, 100],\n",
    "    'clf__learning_rate': [0.05, 0.1, 0.2]\n",
    "}\n",
    "\n",
    "grid_gb = GridSearchCV(pipe_gb, param_grid_gb, cv=3, scoring='f1', n_jobs=-1)\n",
    "grid_gb.fit(X_train_scaled_df, y_train)\n",
    "\n",
    "y_pred_gb = grid_gb.predict(X_test_scaled_df)\n",
    "\n",
    "print(\"Mejores parámetros:\", grid_gb.best_params_)\n",
    "print(classification_report(y_test, y_pred_gb, digits=3))\n",
    "\n",
    "cm = confusion_matrix(y_test, y_pred_gb)\n",
    "sns.heatmap(cm, annot=True, fmt='d', cmap='Blues')\n",
    "plt.title(\"Matriz de confusión - Gradient Boosting\")\n",
    "plt.xlabel(\"Predicho\")\n",
    "plt.ylabel(\"Real\")\n",
    "plt.show()\n"
   ]
  },
  {
   "cell_type": "code",
   "execution_count": null,
   "id": "bacd04dd",
   "metadata": {
    "vscode": {
     "languageId": "plaintext"
    }
   },
   "outputs": [],
   "source": [
    "pipe_mlp = Pipeline([\n",
    "    ('clf', MLPClassifier(max_iter=300, random_state=42))\n",
    "])\n",
    "\n",
    "param_grid_mlp = {\n",
    "    'clf__hidden_layer_sizes': [(50,), (100,)],\n",
    "    'clf__activation': ['relu', 'tanh']\n",
    "}\n",
    "\n",
    "grid_mlp = GridSearchCV(pipe_mlp, param_grid_mlp, cv=3, scoring='f1', n_jobs=-1)\n",
    "grid_mlp.fit(X_train_scaled_df, y_train)\n",
    "\n",
    "y_pred_mlp = grid_mlp.predict(X_test_scaled_df)\n",
    "\n",
    "print(\"Mejores parámetros:\", grid_mlp.best_params_)\n",
    "print(classification_report(y_test, y_pred_mlp, digits=3))\n",
    "\n",
    "cm = confusion_matrix(y_test, y_pred_mlp)\n",
    "sns.heatmap(cm, annot=True, fmt='d', cmap='Blues')\n",
    "plt.title(\"Matriz de confusión - MLPClassifier\")\n",
    "plt.xlabel(\"Predicho\")\n",
    "plt.ylabel(\"Real\")\n",
    "plt.show()\n"
   ]
  }
 ],
 "metadata": {
  "language_info": {
   "name": "python"
  }
 },
 "nbformat": 4,
 "nbformat_minor": 5
}
